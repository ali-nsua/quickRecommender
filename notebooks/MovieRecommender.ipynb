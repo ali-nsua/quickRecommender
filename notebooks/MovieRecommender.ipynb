{
 "cells": [
  {
   "cell_type": "markdown",
   "metadata": {},
   "source": [
    "# Quick Movie Recommender\n",
    "See how QuickRecommender can be used for a simple movie recommendation.\n",
    "In this notebook, I've loaded my custom version of MovieLens, selected a random subset (due to the memory limit), and used a simple TF-IDF vectorization on the titles, overviews, cast list and genres of the movies. I've also applied LSA and normalization on top. The result will be a dense matrix containing all features. This matrix will be fed into QuickRecommender and it'll start recommending movies randomly at first, but will start to recommend more relevant items as you go on selecting movies you like."
   ]
  },
  {
   "cell_type": "markdown",
   "metadata": {},
   "source": [
    "## Import dependencies & movies dataset"
   ]
  },
  {
   "cell_type": "code",
   "execution_count": 1,
   "metadata": {},
   "outputs": [],
   "source": [
    "from quickrecommender import QuickRecommender\n",
    "import pandas as pd\n",
    "import numpy as np\n",
    "\n",
    "from sklearn.pipeline import Pipeline\n",
    "from sklearn.feature_extraction.text import TfidfVectorizer\n",
    "from sklearn.decomposition import TruncatedSVD as LSA\n",
    "from sklearn.preprocessing import Normalizer"
   ]
  },
  {
   "cell_type": "code",
   "execution_count": 2,
   "metadata": {},
   "outputs": [
    {
     "data": {
      "text/plain": [
       "20000"
      ]
     },
     "execution_count": 2,
     "metadata": {},
     "output_type": "execute_result"
    }
   ],
   "source": [
    "movie_db = pd.read_csv('output.csv')\n",
    "movie_db = movie_db.sample(frac=0.6198).reset_index(drop=True)\n",
    "len(movie_db.index)"
   ]
  },
  {
   "cell_type": "markdown",
   "metadata": {},
   "source": [
    "We'll be continuing with 20000 movies."
   ]
  },
  {
   "cell_type": "code",
   "execution_count": 3,
   "metadata": {},
   "outputs": [],
   "source": [
    "title_corpus = movie_db['title'].astype(str).values.tolist()\n",
    "description_corpus = movie_db['desc'].astype(str).values.tolist()\n",
    "cast_corpus = movie_db['cast'].astype(str).values.tolist()\n",
    "genres_corpus = movie_db['genres'].astype(str).values.tolist()\n",
    "keywords_corpus = movie_db['keywords'].astype(str).values.tolist()"
   ]
  },
  {
   "cell_type": "markdown",
   "metadata": {},
   "source": [
    "## Vectorization, dim-reduction and normalization"
   ]
  },
  {
   "cell_type": "code",
   "execution_count": 4,
   "metadata": {},
   "outputs": [],
   "source": [
    "pipe_sm = Pipeline([\n",
    "    ('tfidfvectorizer', TfidfVectorizer()),\n",
    "    ('lsa', LSA(n_components=16, algorithm='arpack', tol=1e-10, random_state=0)),\n",
    "    ('normalizer', Normalizer())])\n",
    "pipe_lg = Pipeline([\n",
    "    ('tfidfvectorizer', TfidfVectorizer()),\n",
    "    ('lsa', LSA(n_components=128, algorithm='arpack', tol=1e-10, random_state=0)),\n",
    "    ('normalizer', Normalizer())])\n",
    "\n",
    "X_titles = pipe_lg.fit_transform(title_corpus)\n",
    "X_desc = pipe_lg.fit_transform(description_corpus)\n",
    "X_cast = pipe_lg.fit_transform(cast_corpus)\n",
    "X_keywords = pipe_lg.fit_transform(keywords_corpus)\n",
    "X_genres = pipe_sm.fit_transform(genres_corpus)\n",
    "\n",
    "X = Normalizer().fit_transform(np.concatenate((X_titles, X_desc, X_cast, X_genres), axis=1))"
   ]
  },
  {
   "cell_type": "markdown",
   "metadata": {},
   "source": [
    "## Fitting QuickRecommender\n",
    "Let's start with a 20-nearest neighbors graph. The more the neighbors, the quicker the learning, and possibly worse results."
   ]
  },
  {
   "cell_type": "code",
   "execution_count": 5,
   "metadata": {},
   "outputs": [],
   "source": [
    "qr = QuickRecommender(n_neighbors=20)\n",
    "qr.fit(X)"
   ]
  },
  {
   "cell_type": "markdown",
   "metadata": {},
   "source": [
    "## Time for some recommendations\n",
    "The first recommendations are literally random, so you can search the movies first and select your favorites to get more meaningful recommendations at first try."
   ]
  },
  {
   "cell_type": "code",
   "execution_count": 6,
   "metadata": {
    "scrolled": true
   },
   "outputs": [
    {
     "name": "stdout",
     "output_type": "stream",
     "text": [
      "Search cast: Depp\n"
     ]
    },
    {
     "data": {
      "text/plain": [
       "['6100: Lost in La Mancha',\n",
       " '6421: Fear and Loathing in Las Vegas',\n",
       " '6487: Secret Window',\n",
       " '6644: Fantastic Beasts and Where to Find Them',\n",
       " '7845: The Tourist',\n",
       " '8098: Dead Man',\n",
       " '8313: Transcendence',\n",
       " '8499: Charlie and the Chocolate Factory',\n",
       " '8512: Cry-Baby',\n",
       " '8715: Donnie Brasco',\n",
       " '9020: The Ninth Gate',\n",
       " '9964: Pirates of the Caribbean: On Stranger Tides',\n",
       " '10039: Buy the Ticket, Take the Ride',\n",
       " '11157: Chocolat',\n",
       " '12490: Public Enemies',\n",
       " '12751: Mortdecai',\n",
       " '13170: Made for Each Other',\n",
       " '13220: Rango',\n",
       " '14380: Charlie: The Life and Art of Charles Chaplin',\n",
       " '14604: Private Resort']"
      ]
     },
     "execution_count": 6,
     "metadata": {},
     "output_type": "execute_result"
    }
   ],
   "source": [
    "# MovieDB cast search\n",
    "query = input(\"Search cast: \")\n",
    "[\"{}: {}\".format(i, title_corpus[i]) for i in range(len(title_corpus)) if query in cast_corpus[i]][:20]"
   ]
  },
  {
   "cell_type": "code",
   "execution_count": 7,
   "metadata": {
    "scrolled": true
   },
   "outputs": [
    {
     "name": "stdout",
     "output_type": "stream",
     "text": [
      "Search movies: car\n"
     ]
    },
    {
     "data": {
      "text/plain": [
       "['269: Running Scared',\n",
       " '458: Scooby-Doo! Camp Scare',\n",
       " '589: The Scarecrow',\n",
       " '1467: Madagascar Skin',\n",
       " '1471: Scary Movie 3',\n",
       " '1547: Dr. Syn, Alias the Scarecrow',\n",
       " '1755: Scared Shrekless',\n",
       " \"2155: The First Annual 'On Cinema' Oscar Special\",\n",
       " '2480: Dimenticare Palermo',\n",
       " '2495: Sylvia Scarlett',\n",
       " '2779: Apex: The Story of the Hypercar',\n",
       " \"2989: Ricardo O'Farrill: Abrazo Genial\",\n",
       " '3497: Sicario',\n",
       " '4292: Maggie Simpson in The Longest Daycare',\n",
       " '4334: Vivien Leigh: Scarlett And Beyond',\n",
       " '4499: The Scarlet Clue',\n",
       " '5103: The Year of Living Vicariously',\n",
       " '5147: Madly Madagascar',\n",
       " '5259: Lisa Picard Is Famous',\n",
       " '5285: Bullet Scars']"
      ]
     },
     "execution_count": 7,
     "metadata": {},
     "output_type": "execute_result"
    }
   ],
   "source": [
    "# MovieDB search\n",
    "query = input(\"Search movies: \")\n",
    "[\"{}: {}\".format(i, title_corpus[i]) for i in range(len(title_corpus)) if query in title_corpus[i]][:20]"
   ]
  },
  {
   "cell_type": "code",
   "execution_count": 8,
   "metadata": {},
   "outputs": [
    {
     "name": "stdout",
     "output_type": "stream",
     "text": [
      "Most similar items to Pirates of the Caribbean: On Stranger Tides are:\n",
      "    18740: Pirates of the Caribbean: Dead Man's Chest\n",
      "    17737: Pirates of the Caribbean: At World's End\n",
      "    660: The Mummy: Tomb of the Dragon Emperor\n",
      "    3246: The Wisdom of Crocodiles\n",
      "    14044: The Brothers Grimm\n",
      "Most similar items to Mortdecai are:\n",
      "    10157: Amelia\n",
      "    14894: Spymate\n",
      "    15815: Spectre\n",
      "    16993: Casanova\n",
      "    849: Centurion\n",
      "Most similar items to Rango are:\n",
      "    7504: Paddington\n",
      "    6534: Hugo\n",
      "    12986: Andre\n",
      "    12968: Trolls\n",
      "    12136: MouseHunt\n",
      "Most similar items to Donnie Brasco are:\n",
      "    11533: Subconscious Cruelty\n",
      "    317: Perfect Sisters\n",
      "    3758: The Big I Am\n",
      "    6713: Money for Nothing\n",
      "    19106: Nick of Time\n",
      "Most similar items to Transcendence are:\n",
      "    19131: Elysium\n",
      "    16146: Blackhat\n",
      "    397: Residue\n",
      "    14664: Taboo\n",
      "    8274: Lunopolis\n",
      "Most similar items to Scared Shrekless are:\n",
      "    6085: Ernest Scared Stupid\n",
      "    9456: Now You See Him, Now You Don't\n",
      "    16617: Please Don't Eat the Daisies\n",
      "    14708: Don Verdean\n",
      "    15603: Don Jon\n",
      "Most similar items to Madly Madagascar are:\n",
      "    19824: Madagascar\n",
      "    7011: Merry Madagascar\n",
      "    15247: Madagascar 3: Europe's Most Wanted\n",
      "    5585: The Madagascar Penguins in a Christmas Caper\n",
      "    8034: Johnson Family Vacation\n"
     ]
    }
   ],
   "source": [
    "selections = [9964, 12751, 13220, 8715, 8313, 1755, 5147]\n",
    "for movie_idx in selections:\n",
    "    print(\"Most similar items to {} are:\".format(title_corpus[movie_idx]))\n",
    "    for idx in list(qr.get_nn_graph().neighbors[movie_idx,1:6]):\n",
    "        print(\"    {}: {}\".format(idx, title_corpus[idx]))\n",
    "my_user = qr.update(selections=selections)"
   ]
  },
  {
   "cell_type": "code",
   "execution_count": 9,
   "metadata": {},
   "outputs": [
    {
     "name": "stdout",
     "output_type": "stream",
     "text": [
      "2743 : Spies of Warsaw -- Action Adventure Drama\n",
      "18735 : Arthur Christmas -- Drama Animation Family Comedy\n",
      "577 : Dimensions -- Drama ScienceFiction\n",
      "18135 : Animal Kingdom -- Drama Thriller Crime\n",
      "10157 : Amelia -- Adventure\n",
      "9456 : Now You See Him, Now You Don't -- Comedy Family\n",
      "1310 : Harry Potter and the Goblet of Fire -- Adventure Fantasy Family\n",
      "6596 : Once Upon a Time in America -- Drama Crime\n",
      "317 : Perfect Sisters -- Thriller Drama Crime\n",
      "15247 : Madagascar 3: Europe's Most Wanted -- Animation Family\n",
      "14708 : Don Verdean -- Comedy\n",
      "9768 : Gus -- Comedy Family\n",
      "4513 : Hitman -- Action Crime Drama Thriller\n",
      "12636 : A Christmas Wish -- Family Drama Comedy\n",
      "2927 : Jesse Stone: Sea Change -- TVMovie Drama Thriller Crime\n",
      "6085 : Ernest Scared Stupid -- Horror Comedy Family\n",
      "8274 : Lunopolis -- Thriller ScienceFiction Mystery\n",
      "17737 : Pirates of the Caribbean: At World's End -- Adventure Fantasy Action\n",
      "7666 : Limitless -- Thriller Mystery ScienceFiction\n",
      "3375 : Christmas Mail -- Comedy Family\n"
     ]
    }
   ],
   "source": [
    "recomms = qr.recommend(my_user, n_recommendations=20)\n",
    "for movie_idx in list(recomms):\n",
    "    print(\"{} : {} -- {}\".format(movie_idx, title_corpus[movie_idx], genres_corpus[movie_idx]))"
   ]
  },
  {
   "cell_type": "code",
   "execution_count": 10,
   "metadata": {},
   "outputs": [],
   "source": [
    "my_user = qr.update(my_user, selections=[15247, 17737])"
   ]
  },
  {
   "cell_type": "code",
   "execution_count": 11,
   "metadata": {},
   "outputs": [
    {
     "name": "stdout",
     "output_type": "stream",
     "text": [
      "10907 : Advantageous -- ScienceFiction Drama Family\n",
      "4577 : Utu -- War Adventure Drama History\n",
      "15247 : Madagascar 3: Europe's Most Wanted -- Animation Family\n",
      "14708 : Don Verdean -- Comedy\n",
      "2217 : Shoot on Sight -- Crime Thriller Drama\n",
      "16475 : In the Heart of the Sea -- Thriller Drama Adventure Action History\n",
      "4773 : Grabbers -- ScienceFiction Comedy Thriller Horror\n",
      "7570 : Malaya -- Adventure Drama\n",
      "6596 : Once Upon a Time in America -- Drama Crime\n",
      "5989 : Coraline -- Animation Family\n",
      "8715 : Donnie Brasco -- Crime Drama Thriller\n",
      "5843 : Kalamity -- Mystery Thriller\n",
      "9456 : Now You See Him, Now You Don't -- Comedy Family\n",
      "660 : The Mummy: Tomb of the Dragon Emperor -- Adventure Action Fantasy\n",
      "865 : Marley & Me -- Comedy Family\n",
      "18776 : Sgt. Bilko -- Comedy Family\n",
      "8731 : Tangled Ever After -- Animation Comedy Action Family\n",
      "8274 : Lunopolis -- Thriller ScienceFiction Mystery\n",
      "14894 : Spymate -- Adventure Comedy\n",
      "3193 : Jesse Stone: Night Passage -- TVMovie Drama Thriller Crime\n"
     ]
    }
   ],
   "source": [
    "recomms = qr.recommend(my_user, n_recommendations=20)\n",
    "for movie_idx in list(recomms):\n",
    "    print(\"{} : {} -- {}\".format(movie_idx, title_corpus[movie_idx], genres_corpus[movie_idx]))"
   ]
  }
 ],
 "metadata": {
  "kernelspec": {
   "display_name": "Python 3",
   "language": "python",
   "name": "python3"
  },
  "language_info": {
   "codemirror_mode": {
    "name": "ipython",
    "version": 3
   },
   "file_extension": ".py",
   "mimetype": "text/x-python",
   "name": "python",
   "nbconvert_exporter": "python",
   "pygments_lexer": "ipython3",
   "version": "3.8.5"
  }
 },
 "nbformat": 4,
 "nbformat_minor": 4
}